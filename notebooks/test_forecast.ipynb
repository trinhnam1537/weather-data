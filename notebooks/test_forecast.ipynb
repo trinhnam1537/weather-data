{
 "cells": [
  {
   "cell_type": "code",
   "execution_count": null,
   "id": "12a44322-7505-4cb7-96fb-93caa3d413a2",
   "metadata": {},
   "outputs": [],
   "source": [
    "from pyspark.sql import SparkSession\n",
    "from pyspark.sql.functions import col, regexp_replace, split, to_date, concat_ws,date_format\n",
    "from pyspark.sql.functions import regexp_replace, split, col, trim,when,lag\n",
    "from pyspark.sql.window import Window"
   ]
  }
 ],
 "metadata": {
  "kernelspec": {
   "display_name": "Python 3 (ipykernel)",
   "language": "python",
   "name": "python3"
  },
  "language_info": {
   "codemirror_mode": {
    "name": "ipython",
    "version": 3
   },
   "file_extension": ".py",
   "mimetype": "text/x-python",
   "name": "python",
   "nbconvert_exporter": "python",
   "pygments_lexer": "ipython3",
   "version": "3.11.4"
  }
 },
 "nbformat": 4,
 "nbformat_minor": 5
}
