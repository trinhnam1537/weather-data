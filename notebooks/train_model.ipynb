{
 "cells": [
  {
   "cell_type": "code",
   "execution_count": 1,
   "id": "f30e638a-d5df-4c50-a424-b730861525a2",
   "metadata": {},
   "outputs": [],
   "source": [
    "from pyspark.sql import SparkSession"
   ]
  },
  {
   "cell_type": "code",
   "execution_count": 2,
   "id": "6d068081-2266-4d0f-bfc7-84343f231a5b",
   "metadata": {},
   "outputs": [],
   "source": [
    "from pyspark.sql import SparkSession\n",
    "\n",
    "spark = SparkSession.builder \\\n",
    "    .appName(\"Read HDFS Weather Data\") \\\n",
    "    .master(\"spark://spark-master:7077\") \\\n",
    "    .config(\"spark.hadoop.fs.defaultFS\", \"hdfs://namenode:9000\") \\\n",
    "    .getOrCreate()\n"
   ]
  },
  {
   "cell_type": "code",
   "execution_count": 6,
   "id": "e1706e74-0db2-41bb-a0a9-ebac1ce2e65a",
   "metadata": {},
   "outputs": [
    {
     "name": "stdout",
     "output_type": "stream",
     "text": [
      "+----------+-----+-------------+-------+-------+-----+--------+----+----+\n",
      "|      Date| Time|      Weather|   Temp|   Rain|Cloud|Pressure|Wind|Gust|\n",
      "+----------+-----+-------------+-------+-------+-----+--------+----+----+\n",
      "|2010-01-01|00:00|        Clear|  25 °c|    0.0| NULL|    NULL|NULL|NULL|\n",
      "|       mm\"|  21%|      1010 mb|15 km/h|27 km/h| NULL|    NULL|NULL|NULL|\n",
      "|2010-01-01|03:00|        Clear|  25 °c|    0.0| NULL|    NULL|NULL|NULL|\n",
      "|       mm\"|  22%|      1009 mb|16 km/h|29 km/h| NULL|    NULL|NULL|NULL|\n",
      "|2010-01-01|06:00|Partly cloudy|  25 °c|    0.0| NULL|    NULL|NULL|NULL|\n",
      "+----------+-----+-------------+-------+-------+-----+--------+----+----+\n",
      "only showing top 5 rows\n",
      "\n"
     ]
    }
   ],
   "source": [
    "df = spark.read.csv(\"hdfs://namenode:9000/tmp/weather_data/bac-lieu.csv\", header=True, inferSchema=True)\n",
    "df.show(5)"
   ]
  },
  {
   "cell_type": "code",
   "execution_count": null,
   "id": "6e0e96a5-e7d1-4f91-a344-c6a2e975e7dc",
   "metadata": {},
   "outputs": [],
   "source": []
  }
 ],
 "metadata": {
  "kernelspec": {
   "display_name": "Python 3 (ipykernel)",
   "language": "python",
   "name": "python3"
  },
  "language_info": {
   "codemirror_mode": {
    "name": "ipython",
    "version": 3
   },
   "file_extension": ".py",
   "mimetype": "text/x-python",
   "name": "python",
   "nbconvert_exporter": "python",
   "pygments_lexer": "ipython3",
   "version": "3.11.4"
  }
 },
 "nbformat": 4,
 "nbformat_minor": 5
}
